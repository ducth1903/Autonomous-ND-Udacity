{
 "cells": [
  {
   "cell_type": "markdown",
   "metadata": {},
   "source": [
    "# Self-Driving Car Engineer Nanodegree\n",
    "\n",
    "## Deep Learning\n",
    "\n",
    "## Project: Build a Traffic Sign Recognition Classifier\n",
    "\n",
    "In this notebook, a template is provided for you to implement your functionality in stages, which is required to successfully complete this project. If additional code is required that cannot be included in the notebook, be sure that the Python code is successfully imported and included in your submission if necessary. \n",
    "\n",
    "> **Note**: Once you have completed all of the code implementations, you need to finalize your work by exporting the iPython Notebook as an HTML document. Before exporting the notebook to html, all of the code cells need to have been run so that reviewers can see the final implementation and output. You can then export the notebook by using the menu above and navigating to  \\n\",\n",
    "    \"**File -> Download as -> HTML (.html)**. Include the finished document along with this notebook as your submission. \n",
    "\n",
    "In addition to implementing code, there is a writeup to complete. The writeup should be completed in a separate file, which can be either a markdown file or a pdf document. There is a [write up template](https://github.com/udacity/CarND-Traffic-Sign-Classifier-Project/blob/master/writeup_template.md) that can be used to guide the writing process. Completing the code template and writeup template will cover all of the [rubric points](https://review.udacity.com/#!/rubrics/481/view) for this project.\n",
    "\n",
    "The [rubric](https://review.udacity.com/#!/rubrics/481/view) contains \"Stand Out Suggestions\" for enhancing the project beyond the minimum requirements. The stand out suggestions are optional. If you decide to pursue the \"stand out suggestions\", you can include the code in this Ipython notebook and also discuss the results in the writeup file.\n",
    "\n",
    "\n",
    ">**Note:** Code and Markdown cells can be executed using the **Shift + Enter** keyboard shortcut. In addition, Markdown cells can be edited by typically double-clicking the cell to enter edit mode."
   ]
  },
  {
   "cell_type": "markdown",
   "metadata": {},
   "source": [
    "---\n",
    "## Step 0: Load The Data"
   ]
  },
  {
   "cell_type": "code",
   "execution_count": 1,
   "metadata": {},
   "outputs": [],
   "source": [
    "# Import libraries\n",
    "import cv2\n",
    "import pickle\n",
    "import pandas as pd\n",
    "import matplotlib.pyplot as plt\n",
    "import numpy as np\n",
    "from collections import Counter\n",
    "from sklearn.utils import shuffle\n",
    "from tqdm import tqdm\n",
    "import tensorflow as tf\n",
    "import time, random, json\n",
    "\n",
    "# Visualizations will be shown in the notebook.\n",
    "%matplotlib inline"
   ]
  },
  {
   "cell_type": "code",
   "execution_count": 2,
   "metadata": {},
   "outputs": [],
   "source": [
    "# Load pickled data\n",
    "# TODO: Fill this in based on where you saved the training and testing data\n",
    "\n",
    "training_file = '../data/train.p'\n",
    "validation_file = '../data/valid.p'\n",
    "testing_file = '../data/test.p'\n",
    "\n",
    "with open(training_file, mode='rb') as f:\n",
    "    train = pickle.load(f)\n",
    "with open(validation_file, mode='rb') as f:\n",
    "    valid = pickle.load(f)\n",
    "with open(testing_file, mode='rb') as f:\n",
    "    test = pickle.load(f)\n",
    "    \n",
    "X_train, y_train = train['features'], train['labels']\n",
    "X_valid, y_valid = valid['features'], valid['labels']\n",
    "X_test, y_test = test['features'], test['labels']"
   ]
  },
  {
   "cell_type": "markdown",
   "metadata": {},
   "source": [
    "---\n",
    "\n",
    "## Step 1: Dataset Summary & Exploration\n",
    "\n",
    "The pickled data is a dictionary with 4 key/value pairs:\n",
    "\n",
    "- `'features'` is a 4D array containing raw pixel data of the traffic sign images, (num examples, width, height, channels).\n",
    "- `'labels'` is a 1D array containing the label/class id of the traffic sign. The file `signnames.csv` contains id -> name mappings for each id.\n",
    "- `'sizes'` is a list containing tuples, (width, height) representing the original width and height the image.\n",
    "- `'coords'` is a list containing tuples, (x1, y1, x2, y2) representing coordinates of a bounding box around the sign in the image. **THESE COORDINATES ASSUME THE ORIGINAL IMAGE. THE PICKLED DATA CONTAINS RESIZED VERSIONS (32 by 32) OF THESE IMAGES**\n",
    "\n",
    "Complete the basic data summary below. Use python, numpy and/or pandas methods to calculate the data summary rather than hard coding the results. For example, the [pandas shape method](http://pandas.pydata.org/pandas-docs/stable/generated/pandas.DataFrame.shape.html) might be useful for calculating some of the summary results. "
   ]
  },
  {
   "cell_type": "markdown",
   "metadata": {},
   "source": [
    "### Provide a Basic Summary of the Data Set Using Python, Numpy and/or Pandas"
   ]
  },
  {
   "cell_type": "code",
   "execution_count": 3,
   "metadata": {},
   "outputs": [
    {
     "name": "stdout",
     "output_type": "stream",
     "text": [
      "Number of training examples = 34799\n",
      "Number of validation examples = 4410\n",
      "Number of testing examples = 12630\n",
      "Image data shape = (32, 32, 3)\n",
      "Number of classes = 43\n",
      "\n",
      "Training dimension:\tX_train = (34799, 32, 32, 3)\ty_train = (34799,)\n"
     ]
    }
   ],
   "source": [
    "### Replace each question mark with the appropriate value. \n",
    "### Use python, pandas or numpy methods rather than hard coding the results\n",
    "\n",
    "# TODO: Number of training examples\n",
    "n_train = len(X_train)\n",
    "\n",
    "# TODO: Number of validation examples\n",
    "n_validation = len(X_valid)\n",
    "\n",
    "# TODO: Number of testing examples.\n",
    "n_test = len(X_test)\n",
    "\n",
    "# TODO: What's the shape of an traffic sign image?\n",
    "image_shape = X_train[0].shape\n",
    "\n",
    "# TODO: How many unique classes/labels there are in the dataset.\n",
    "n_classes = len(set(y_train).union(set(y_valid)).union(set(y_test)))\n",
    "\n",
    "print(\"Number of training examples =\", n_train)\n",
    "print(\"Number of validation examples =\", n_validation)\n",
    "print(\"Number of testing examples =\", n_test)\n",
    "print(\"Image data shape =\", image_shape)\n",
    "print(\"Number of classes =\", n_classes)\n",
    "print()\n",
    "print(\"Training dimension:\\tX_train = {}\\ty_train = {}\".format(X_train.shape, y_train.shape))"
   ]
  },
  {
   "cell_type": "markdown",
   "metadata": {},
   "source": [
    "### Include an exploratory visualization of the dataset"
   ]
  },
  {
   "cell_type": "markdown",
   "metadata": {},
   "source": [
    "Visualize the German Traffic Signs Dataset using the pickled file(s). This is open ended, suggestions include: plotting traffic sign images, plotting the count of each sign, etc. \n",
    "\n",
    "The [Matplotlib](http://matplotlib.org/) [examples](http://matplotlib.org/examples/index.html) and [gallery](http://matplotlib.org/gallery.html) pages are a great resource for doing visualizations in Python.\n",
    "\n",
    "**NOTE:** It's recommended you start with something simple first. If you wish to do more, come back to it after you've completed the rest of the sections. It can be interesting to look at the distribution of classes in the training, validation and test set. Is the distribution the same? Are there more examples of some classes than others?"
   ]
  },
  {
   "cell_type": "code",
   "execution_count": 4,
   "metadata": {},
   "outputs": [],
   "source": [
    "# Load sign names from CSV file\n",
    "signnames_pd = pd.read_csv('signnames.csv')\n",
    "signName = signnames_pd['SignName'].values"
   ]
  },
  {
   "cell_type": "code",
   "execution_count": 5,
   "metadata": {},
   "outputs": [
    {
     "data": {
      "image/png": "[encoded data removed]",
      "text/plain": [
       "<matplotlib.figure.Figure at 0x7fc9b2bc20f0>"
      ]
     },
     "metadata": {
      "needs_background": "light"
     },
     "output_type": "display_data"
    }
   ],
   "source": [
    "### Data exploration visualization code goes here.\n",
    "### Feel free to use as many code cells as needed\n",
    "fig = plt.figure(figsize=(10,20))\n",
    "fig.tight_layout()\n",
    "fig.add_axes()\n",
    "\n",
    "random.seed(int(round(time.time() * 1000)))\n",
    "\n",
    "train_i = np.random.randint(0, n_train-1)\n",
    "ax0 = fig.add_subplot(1,3,1)\n",
    "ax0.imshow(X_train[train_i])\n",
    "ax0.set_title('Training ({})\\n{}'.format(y_train[train_i], signName[y_train[train_i]]))\n",
    "\n",
    "valid_i = np.random.randint(0, n_validation-1)\n",
    "ax1 = fig.add_subplot(1,3,2)\n",
    "ax1.imshow(X_valid[valid_i])\n",
    "ax1.set_title('Validation ({})\\n{}'.format(y_valid[valid_i], signName[y_valid[valid_i]]))\n",
    "\n",
    "test_i = np.random.randint(0, n_test-1)\n",
    "ax2 = fig.add_subplot(1,3,3)\n",
    "ax2.imshow(X_test[test_i])\n",
    "ax2.set_title('Test ({})\\n{}'.format(y_test[test_i], signName[y_test[test_i]]))\n",
    "\n",
    "plt.subplots_adjust(left=0., right=1, top=0.9, bottom=0.)"
   ]
  },
  {
   "cell_type": "code",
   "execution_count": 6,
   "metadata": {},
   "outputs": [
    {
     "name": "stdout",
     "output_type": "stream",
     "text": [
      "The 5 most common signs in the training set are: \n",
      "[(2, 2010), (1, 1980), (13, 1920), (12, 1890), (38, 1860)]\n",
      "['Speed limit (50km/h)', 'Speed limit (30km/h)', 'Yield', 'Priority road', 'Keep right']\n"
     ]
    },
    {
     "data": {
      "image/png": "[encoded data removed]",
      "text/plain": [
       "<matplotlib.figure.Figure at 0x7fc9b2a92470>"
      ]
     },
     "metadata": {
      "needs_background": "light"
     },
     "output_type": "display_data"
    }
   ],
   "source": [
    "# Count the number of each sign (sign's histogram)\n",
    "sign_freq_obj = Counter(y_train)\n",
    "print('The 5 most common signs in the training set are: ')\n",
    "print(sign_freq_obj.most_common(5))\n",
    "most_common_label = [signName[i[0]] for i in sign_freq_obj.most_common(5)]\n",
    "print(most_common_label)\n",
    "\n",
    "# Plotting frequency of signs (number of occurences for each sign in the training set)\n",
    "sign_label, sign_freq = zip(*sign_freq_obj.items())    # * for unpacking the containers\n",
    "plt.bar(sign_label, sign_freq)\n",
    "plt.title('Frequency for Signs in Training Set')\n",
    "plt.xlabel('Sign Code')\n",
    "plt.show()"
   ]
  },
  {
   "cell_type": "markdown",
   "metadata": {},
   "source": [
    "----\n",
    "\n",
    "## Step 2: Design and Test a Model Architecture\n",
    "\n",
    "Design and implement a deep learning model that learns to recognize traffic signs. Train and test your model on the [German Traffic Sign Dataset](http://benchmark.ini.rub.de/?section=gtsrb&subsection=dataset).\n",
    "\n",
    "The LeNet-5 implementation shown in the [classroom](https://classroom.udacity.com/nanodegrees/nd013/parts/fbf77062-5703-404e-b60c-95b78b2f3f9e/modules/6df7ae49-c61c-4bb2-a23e-6527e69209ec/lessons/601ae704-1035-4287-8b11-e2c2716217ad/concepts/d4aca031-508f-4e0b-b493-e7b706120f81) at the end of the CNN lesson is a solid starting point. You'll have to change the number of classes and possibly the preprocessing, but aside from that it's plug and play! \n",
    "\n",
    "With the LeNet-5 solution from the lecture, you should expect a validation set accuracy of about 0.89. To meet specifications, the validation set accuracy will need to be at least 0.93. It is possible to get an even higher accuracy, but 0.93 is the minimum for a successful project submission. \n",
    "\n",
    "There are various aspects to consider when thinking about this problem:\n",
    "\n",
    "- Neural network architecture (is the network over or underfitting?)\n",
    "- Play around preprocessing techniques (normalization, rgb to grayscale, etc)\n",
    "- Number of examples per label (some have more than others).\n",
    "- Generate fake data.\n",
    "\n",
    "Here is an example of a [published baseline model on this problem](http://yann.lecun.com/exdb/publis/pdf/sermanet-ijcnn-11.pdf). It's not required to be familiar with the approach used in the paper but, it's good practice to try to read papers like these."
   ]
  },
  {
   "cell_type": "markdown",
   "metadata": {},
   "source": [
    "### Pre-process the Data Set (normalization, grayscale, etc.)"
   ]
  },
  {
   "cell_type": "markdown",
   "metadata": {},
   "source": [
    "Minimally, the image data should be normalized so that the data has mean zero and equal variance. For image data, `(pixel - 128)/ 128` is a quick way to approximately normalize the data and can be used in this project. \n",
    "\n",
    "Other pre-processing steps are optional. You can try different techniques to see if it improves performance. \n",
    "\n",
    "Use the code cell (or multiple code cells, if necessary) to implement the first step of your project."
   ]
  },
  {
   "cell_type": "code",
   "execution_count": 7,
   "metadata": {},
   "outputs": [],
   "source": [
    "### Preprocess the data here. It is required to normalize the data. Other preprocessing steps could include \n",
    "### converting to grayscale, etc.\n",
    "\n",
    "# Convert to gray scale using cv2\n",
    "def grayscale(dataset, isOneImg=False):\n",
    "    # Input shape = (34799,32,32,1)\n",
    "    # Output shape = (34799,32,32)\n",
    "    if not isOneImg:\n",
    "        gray = np.zeros((dataset.shape[0], dataset.shape[1], dataset.shape[2]))\n",
    "        for i in range(len(dataset)):\n",
    "            gray[i] = cv2.cvtColor(dataset[i], cv2.COLOR_RGB2GRAY)\n",
    "    else:\n",
    "        gray = np.copy(dataset)\n",
    "        gray = cv2.cvtColor(gray, cv2.COLOR_RGB2GRAY)\n",
    "    \n",
    "    return gray\n",
    "\n",
    "# Normalize images\n",
    "def normalize(dataset):\n",
    "    dataset_norm = np.copy(dataset).astype(float)\n",
    "    for i in range(len(dataset)):\n",
    "        dataset_norm[i] = (dataset_norm[i]-128)/128\n",
    "    return dataset_norm\n",
    "\n",
    "# ============== Image Augmentation ==============\n",
    "# 1. Adding salt and pepper noise\n",
    "# 2. Rotating, scaling, resize, translation, center, etc.\n",
    "# 3. Generate new data for the low-frequency labels\n",
    "# 4. Random brightness, random contrast, random saturation, random jpeg quality\n",
    "\n",
    "# Gaussian Noise -> affect lighting conditions !!!\n",
    "def add_gaussian_noise(gray):\n",
    "    row, col = gray.shape\n",
    "    mu, sigma = 0, 0.001**0.5\n",
    "    gauss = np.random.normal(mu, sigma, (row,col))\n",
    "    gauss = gauss.reshape(row, col)\n",
    "    noisy = gray+gauss\n",
    "    return noisy\n",
    "\n",
    "def add_salt_pepper_noise(gray):\n",
    "    s_vs_p = 0.5\n",
    "    amount = 0.004\n",
    "    noisy = np.copy(gray)\n",
    "    \n",
    "    # Salt mode\n",
    "    num_salt = np.ceil(amount * gray.size * s_vs_p)\n",
    "    coords = [np.random.randint(0, i - 1, int(num_salt))\n",
    "          for i in gray.shape]\n",
    "    noisy[coords] = 1\n",
    "\n",
    "    # Pepper mode\n",
    "    num_pepper = np.ceil(amount* gray.size * (1. - s_vs_p))\n",
    "    coords = [np.random.randint(0, i - 1, int(num_pepper))\n",
    "          for i in gray.shape]\n",
    "    noisy[coords] = 0\n",
    "    return noisy\n",
    "\n",
    "def add_speckle_noise(gray):\n",
    "    row,col = gray.shape\n",
    "    gauss = np.random.randn(row,col,ch)\n",
    "    gauss = gauss.reshape(row,col,ch)        \n",
    "    noisy = gray + gray * gauss\n",
    "    return noisy\n",
    "\n",
    "def rotate(gray, deg):\n",
    "    # deg is in degree (not radian)\n",
    "    row, col = gray.shape\n",
    "    M = cv2.getRotationMatrix2D((col/2, row/2), deg, 1)\n",
    "    dst = cv2.warpAffine(gray, M, (col,row))\n",
    "    return dst\n",
    "\n",
    "def random_brightness(gray):\n",
    "    temp_img = np.copy(gray)\n",
    "    temp_img = tf.image.random_brightness(temp_img, max_delta=0.3)\n",
    "    temp_img = tf.Session().run(temp_img)     # convert back from tensor to numpy array\n",
    "    return temp_img\n",
    "\n",
    "def random_contrast(color):\n",
    "    temp_img = np.copy(color)\n",
    "    temp_img = tf.image.random_contrast(temp_img, lower=2, upper=10)\n",
    "    temp_img = tf.Session().run(temp_img)     # convert back from tensor to numpy array\n",
    "    return temp_img\n",
    "\n",
    "def random_saturation(color):\n",
    "    '''\n",
    "    Convert image from RGB to HSV tha adjust S channel and clipping\n",
    "    Convert back to RGB and return\n",
    "    '''\n",
    "    temp_img = np.copy(color)\n",
    "    temp_img = tf.image.random_saturation(temp_img, lower=0, upper=20)\n",
    "    temp_img = tf.Session().run(temp_img)     # convert back from tensor to numpy array\n",
    "    return temp_img\n",
    "\n",
    "def add_dimension(dataset):\n",
    "    # Input shape = (32799,32,32)\n",
    "    # Output shape = (32799,32,32,1)\n",
    "    temp = dataset[:, np.newaxis]\n",
    "    dataset = np.reshape(temp, (temp.shape[0], temp.shape[2], temp.shape[3], temp.shape[1]))\n",
    "    return dataset"
   ]
  },
  {
   "cell_type": "code",
   "execution_count": 8,
   "metadata": {},
   "outputs": [],
   "source": [
    "# Dictionary that stores index for each label in training set\n",
    "index_dict = dict.fromkeys(range(n_classes))\n",
    "for idx, lb in enumerate(y_train):\n",
    "    try:\n",
    "        index_dict[lb].append(idx)\n",
    "    except:\n",
    "        index_dict[lb] = [idx]"
   ]
  },
  {
   "cell_type": "code",
   "execution_count": 9,
   "metadata": {},
   "outputs": [
    {
     "data": {
      "image/png": "[encoded data removed]",
      "text/plain": [
       "<matplotlib.figure.Figure at 0x7fc9b2a28f28>"
      ]
     },
     "metadata": {
      "needs_background": "light"
     },
     "output_type": "display_data"
    }
   ],
   "source": [
    "# Testing Pre-processing on Color Image\n",
    "check_img = X_train[0]\n",
    "m = random_contrast(check_img)\n",
    "# m = random_saturation(check_img)\n",
    "\n",
    "fig = plt.figure(figsize=(7,7))\n",
    "fig.tight_layout()\n",
    "fig.add_axes()\n",
    "\n",
    "ax0 = fig.add_subplot(1,2,1)\n",
    "ax0.imshow(check_img, cmap='gray')\n",
    "ax0.set_title('{}'.format(signName[y_train[0]]))\n",
    "\n",
    "ax1 = fig.add_subplot(1,2,2)\n",
    "ax1.imshow(m, cmap='gray')\n",
    "ax1.set_title('{}'.format(signName[y_train[0]]))\n",
    "\n",
    "plt.subplots_adjust(left=0., right=1, top=0.9, bottom=0.)"
   ]
  },
  {
   "cell_type": "code",
   "execution_count": 10,
   "metadata": {},
   "outputs": [
    {
     "data": {
      "image/png": "[encoded data removed]",
      "text/plain": [
       "<matplotlib.figure.Figure at 0x7fc9b2a39518>"
      ]
     },
     "metadata": {
      "needs_background": "light"
     },
     "output_type": "display_data"
    }
   ],
   "source": [
    "# Testing Pre-processing on Grayscale Image\n",
    "# Try different image augmentation techniques (add gaussian noise, salt&pepper noise, rotate)\n",
    "temp_idx = np.random.randint(0, n_train-1)\n",
    "temp_img_orig = grayscale(X_train[temp_idx], isOneImg=True)\n",
    "temp_img = random_brightness(temp_img_orig)\n",
    "temp_img = add_gaussian_noise(temp_img)\n",
    "# temp_img = add_salt_pepper_noise(temp_img)\n",
    "temp_img = rotate(temp_img, deg=random.uniform(-1, 1)*30)\n",
    "\n",
    "# temp_img = temp_img_orig[:, np.newaxis]\n",
    "# temp_img = np.reshape(temp_img, (temp_img.shape[0], temp_img.shape[2], temp_img.shape[1]))\n",
    "# temp_img = tf.image.random_jpeg_quality(temp_img_orig, min_jpeg_quality=10, max_jpeg_quality=90)\n",
    "# temp_img = tf.squeeze(temp_img)\n",
    "# temp_img = tf.Session().run(temp_img)\n",
    "\n",
    "fig = plt.figure(figsize=(7,7))\n",
    "fig.tight_layout()\n",
    "fig.add_axes()\n",
    "\n",
    "ax0 = fig.add_subplot(1,2,1)\n",
    "ax0.imshow(temp_img_orig, cmap='gray')\n",
    "ax0.set_title('{}'.format(signName[y_train[temp_idx]]))\n",
    "\n",
    "ax1 = fig.add_subplot(1,2,2)\n",
    "ax1.imshow(temp_img, cmap='gray')\n",
    "ax1.set_title('{}'.format(signName[y_train[temp_idx]]))\n",
    "\n",
    "plt.subplots_adjust(left=0., right=1, top=0.9, bottom=0.)\n",
    "# print(temp_img_orig)\n",
    "# print(temp_img)"
   ]
  },
  {
   "cell_type": "code",
   "execution_count": null,
   "metadata": {
    "scrolled": true
   },
   "outputs": [
    {
     "name": "stderr",
     "output_type": "stream",
     "text": [
      "  1%|          | 7/790 [00:00<00:12, 62.47it/s]"
     ]
    },
    {
     "name": "stdout",
     "output_type": "stream",
     "text": [
      "Counter({2: 2010, 1: 1980, 13: 1920, 12: 1890, 38: 1860, 10: 1800, 4: 1770, 5: 1650, 25: 1350, 9: 1320, 7: 1290, 3: 1260, 8: 1260, 11: 1170, 35: 1080, 18: 1080, 17: 990, 31: 690, 14: 690, 33: 599, 26: 540, 15: 540, 28: 480, 23: 450, 30: 390, 16: 360, 34: 360, 6: 360, 36: 330, 22: 330, 40: 300, 20: 300, 39: 270, 21: 270, 29: 240, 24: 240, 41: 210, 42: 210, 32: 210, 27: 210, 37: 180, 19: 180, 0: 180})\n",
      "\n",
      "Start with label 41, initial frequency of 210. Adding 790 images...\n"
     ]
    },
    {
     "name": "stderr",
     "output_type": "stream",
     "text": [
      "100%|██████████| 790/790 [04:06<00:00,  1.48it/s]\n",
      "  0%|          | 0/310 [00:00<?, ?it/s]"
     ]
    },
    {
     "name": "stdout",
     "output_type": "stream",
     "text": [
      "Done with label 41\n",
      "---------------------------------\n",
      "Start with label 31, initial frequency of 690. Adding 310 images...\n"
     ]
    },
    {
     "name": "stderr",
     "output_type": "stream",
     "text": [
      "100%|██████████| 310/310 [04:02<00:00,  1.14it/s]\n",
      "  0%|          | 0/670 [00:00<?, ?it/s]"
     ]
    },
    {
     "name": "stdout",
     "output_type": "stream",
     "text": [
      "Done with label 31\n",
      "---------------------------------\n",
      "Start with label 36, initial frequency of 330. Adding 670 images...\n"
     ]
    },
    {
     "name": "stderr",
     "output_type": "stream",
     "text": [
      "100%|██████████| 670/670 [12:34<00:00,  1.35s/it]\n",
      "  0%|          | 0/460 [00:00<?, ?it/s]"
     ]
    },
    {
     "name": "stdout",
     "output_type": "stream",
     "text": [
      "Done with label 36\n",
      "---------------------------------\n",
      "Start with label 26, initial frequency of 540. Adding 460 images...\n"
     ]
    },
    {
     "name": "stderr",
     "output_type": "stream",
     "text": [
      "100%|██████████| 460/460 [12:13<00:00,  1.77s/it]\n",
      "  0%|          | 0/550 [00:00<?, ?it/s]"
     ]
    },
    {
     "name": "stdout",
     "output_type": "stream",
     "text": [
      "Done with label 26\n",
      "---------------------------------\n",
      "Start with label 23, initial frequency of 450. Adding 550 images...\n"
     ]
    },
    {
     "name": "stderr",
     "output_type": "stream",
     "text": [
      "100%|██████████| 550/550 [18:26<00:00,  2.27s/it]\n",
      "  0%|          | 0/700 [00:00<?, ?it/s]"
     ]
    },
    {
     "name": "stdout",
     "output_type": "stream",
     "text": [
      "Done with label 23\n",
      "---------------------------------\n",
      "Start with label 40, initial frequency of 300. Adding 700 images...\n"
     ]
    },
    {
     "name": "stderr",
     "output_type": "stream",
     "text": [
      "100%|██████████| 700/700 [29:54<00:00,  2.85s/it]\n",
      "  0%|          | 0/670 [00:00<?, ?it/s]"
     ]
    },
    {
     "name": "stdout",
     "output_type": "stream",
     "text": [
      "Done with label 40\n",
      "---------------------------------\n",
      "Start with label 22, initial frequency of 330. Adding 670 images...\n"
     ]
    },
    {
     "name": "stderr",
     "output_type": "stream",
     "text": [
      " 93%|█████████▎| 621/670 [32:36<02:47,  3.42s/it]"
     ]
    }
   ],
   "source": [
    "# Total number of images in the training set is 34799 and 43 labels\n",
    "# Each label should have at least 34799/43=809 => 1000\n",
    "# For labels that occur less than 1000 times, we generate fake images with the following steps:\n",
    "# - random select an image with that label\n",
    "# - rotate randomly\n",
    "# - append to the end of the training set\n",
    "print(sign_freq_obj)\n",
    "print()\n",
    "\n",
    "X_train_extended = []\n",
    "y_train_extended = []\n",
    "for label, freq in sign_freq_obj.items():\n",
    "    min_img = 1000\n",
    "    if freq < min_img:\n",
    "        num_image_add = min_img - freq\n",
    "        print('Start with label {}, initial frequency of {}. Adding {} images...'.format(label, freq, num_image_add))\n",
    "        \n",
    "        # Randomly choose an image with the current label\n",
    "        for i in tqdm(range(num_image_add)):\n",
    "            random.seed(int(round(time.time() * 1000)))\n",
    "            rand_idx = np.random.randint(0, freq-1)\n",
    "            temp_idx = (index_dict[label])[rand_idx]\n",
    "            temp_img = np.copy(X_train[temp_idx])\n",
    "            \n",
    "            # Color Image Augmentation\n",
    "            #temp_img = random_contrast(temp_img)\n",
    "            \n",
    "            # Grayscale Image Augmentation\n",
    "            temp_img = grayscale(temp_img, isOneImg=True)\n",
    "            temp_img = random_brightness(temp_img_orig)      # random brightness\n",
    "            temp_img = add_gaussian_noise(temp_img)          # add gaussian noise\n",
    "            #temp_img = add_salt_pepper_noise(temp_img)       # add salt pepper noise\n",
    "            temp_img = rotate(temp_img, deg=random.uniform(-1, 1)*30)     # random rotate\n",
    "            # Up to here, temp_img shape = (32,32)\n",
    "            \n",
    "            # (32,32) -> (32,32,1)\n",
    "            #temp_img = temp_img[:, np.newaxis]\n",
    "            #temp_img = np.reshape(temp_img, (temp_img.shape[0], temp_img.shape[2], temp_img.shape[1]))\n",
    "            \n",
    "            # Adding image and label to the end of training set\n",
    "            X_train_extended.append(temp_img.tolist())      \n",
    "            y_train_extended.append(label.tolist())\n",
    "            \n",
    "        print('Done with label {}'.format(label))\n",
    "        print('---------------------------------')\n",
    "\n",
    "# Save new training dataset for easier access\n",
    "train_extended = {}\n",
    "train_extended['data'] = X_train_extended\n",
    "train_extended['label'] = y_train_extended\n",
    "with open('train_data_extend.txt', 'w') as outfile:\n",
    "    json.dump(train_extended, outfile)\n",
    "print('Done saving...')"
   ]
  },
  {
   "cell_type": "code",
   "execution_count": null,
   "metadata": {},
   "outputs": [],
   "source": [
    "# Pre-processing image\n",
    "\n",
    "# Convert to gray scale\n",
    "X_train_gray = grayscale(X_train)\n",
    "X_valid_gray = grayscale(X_valid)\n",
    "X_test_gray = grayscale(X_test)"
   ]
  },
  {
   "cell_type": "code",
   "execution_count": null,
   "metadata": {},
   "outputs": [],
   "source": [
    "# Load JSON file that stores extended training set, if necessary\n",
    "with open('train_data_extend.txt') as json_file:\n",
    "    extended_train_data = json.load(json_file)\n",
    "    X_train_extended = np.asarray(extended_train_data['data'])\n",
    "    y_train_extended = np.asarray(extended_train_data['label'])"
   ]
  },
  {
   "cell_type": "code",
   "execution_count": null,
   "metadata": {},
   "outputs": [],
   "source": [
    "print('Before extension...',X_train_gray.shape, y_train.shape)\n",
    "X_train_gray = np.concatenate((X_train_gray, X_train_extended), axis=0)\n",
    "y_train = np.concatenate((y_train, y_train_extended), axis=0)\n",
    "print('After extension...',X_train_gray.shape, y_train.shape)"
   ]
  },
  {
   "cell_type": "code",
   "execution_count": null,
   "metadata": {},
   "outputs": [],
   "source": [
    "# Normalize datasets\n",
    "X_train = normalize(X_train_gray)\n",
    "X_valid = normalize(X_valid_gray)\n",
    "X_test = normalize(X_test_gray)\n",
    "\n",
    "# Add dimension to training data before putting into model (32,32,1) -> (1,32,32,1)\n",
    "X_train = add_dimension(X_train)\n",
    "X_valid = add_dimension(X_valid)\n",
    "X_test = add_dimension(X_test)\n",
    "\n",
    "# Shuffle the training data at first, then for each new epoch, shuffle again\n",
    "X_train, y_train = shuffle(X_train, y_train)\n",
    "\n",
    "print('X_train: {}\\ty_train: {}'.format(X_train.shape, y_train.shape))\n",
    "print('X_valid: {}\\ty_valid: {}'.format(X_valid.shape, y_valid.shape))"
   ]
  },
  {
   "cell_type": "code",
   "execution_count": null,
   "metadata": {},
   "outputs": [],
   "source": [
    "# Count the number of each sign (sign's histogram)\n",
    "sign_freq_obj = Counter(y_train)\n",
    "print('The 5 most common signs in the training set are: ')\n",
    "print(sign_freq_obj.most_common(5))\n",
    "most_common_label = [signName[i[0]] for i in sign_freq_obj.most_common(5)]\n",
    "print(most_common_label)\n",
    "# Plotting frequency of signs (number of occurences for each sign in the training set)\n",
    "sign_label, sign_freq = zip(*sign_freq_obj.items())    # * for unpacking the containers\n",
    "plt.bar(sign_label, sign_freq)\n",
    "plt.title('Frequency for Signs in Training Set')\n",
    "plt.xlabel('Sign Code')\n",
    "plt.show()"
   ]
  },
  {
   "cell_type": "markdown",
   "metadata": {},
   "source": [
    "### Model Architecture"
   ]
  },
  {
   "cell_type": "code",
   "execution_count": null,
   "metadata": {},
   "outputs": [],
   "source": [
    "### Define your architecture here.\n",
    "### Feel free to use as many code cells as needed\n",
    "\n",
    "EPOCHS = 50\n",
    "BATCH_SIZE = 128\n",
    "dropout = 0.80  # Dropout, probability to keep units\n",
    "\n",
    "def LeNet(x):\n",
    "    # Mean and std dev for truncated normal (normal dist but values whose magnitude is more than\n",
    "    # 2 std dev from the mean are dropped and re-picked)\n",
    "    # Need to use truncated_normal instead of random_normal to overcome saturation of some functions like sigmoid\n",
    "    # where if the value is too big/small, the neurons stops learning\n",
    "    mu = 0\n",
    "    sigma = 0.1\n",
    "    \n",
    "    # TODO: Layer 1: Convolutional. Input = 32x32x1. Output = 28x28x6.\n",
    "    conv1_W = tf.Variable(tf.truncated_normal(shape=(5, 5, 1, 6), mean = mu, stddev = sigma))\n",
    "    conv1 = tf.nn.conv2d(x, conv1_W, strides=[1,1,1,1], padding='VALID')\n",
    "    conv1 = tf.nn.bias_add(conv1, tf.Variable(tf.zeros(6)))\n",
    "    \n",
    "    # TODO: Activation.\n",
    "    conv1 = tf.nn.relu(conv1)\n",
    "\n",
    "    # TODO: Pooling. Input = 28x28x6. Output = 14x14x6.\n",
    "    conv1 = tf.nn.max_pool(conv1, ksize=[1,2,2,1], strides=[1,2,2,1], padding='VALID')\n",
    "    \n",
    "    # TODO: Layer 2: Convolutional. Output = 10x10x16.\n",
    "    conv2_W = tf.Variable(tf.truncated_normal(shape=(5, 5, 6, 16), mean = mu, stddev = sigma))\n",
    "    conv2 = tf.nn.conv2d(conv1, conv2_W, strides=[1,1,1,1], padding='VALID')\n",
    "    conv2 = tf.nn.bias_add(conv2, tf.Variable(tf.zeros(16)))\n",
    "    \n",
    "    # TODO: Activation.\n",
    "    conv2 = tf.nn.relu(conv2)\n",
    "\n",
    "    # TODO: Pooling. Input = 10x10x16. Output = 5x5x16.\n",
    "    conv2 = tf.nn.max_pool(conv2, ksize=[1,2,2,1], strides=[1,2,2,1], padding='VALID')\n",
    "    \n",
    "    # TODO: Flatten. Input = 5x5x16. Output = 400.\n",
    "    conv_out = tf.contrib.layers.flatten(conv2)\n",
    "    conv_out = tf.nn.dropout(conv_out, dropout)\n",
    "    \n",
    "    # ----------------------------------------------------------------------------------------\n",
    "    # TODO: Layer 3: Fully Connected. Input = 400. Output = 120.\n",
    "    fc1_W = tf.Variable(tf.truncated_normal(shape=(400, 120), mean = mu, stddev = sigma))\n",
    "    fc1_b = tf.Variable(tf.zeros(120))\n",
    "    fc1 = tf.matmul(conv_out, fc1_W) + fc1_b\n",
    "    \n",
    "    # TODO: Activation.\n",
    "    fc1 = tf.nn.relu(fc1)\n",
    "    fc1 = tf.nn.dropout(fc1, dropout)\n",
    "    \n",
    "    # TODO: Layer 4: Fully Connected. Input = 120. Output = 84.\n",
    "    fc2_W = tf.Variable(tf.truncated_normal(shape=(120, 84), mean = mu, stddev = sigma))\n",
    "    fc2_b = tf.Variable(tf.zeros(84))\n",
    "    fc2 = tf.matmul(fc1, fc2_W) + fc2_b\n",
    "    \n",
    "    # TODO: Activation.\n",
    "    fc2 = tf.nn.relu(fc2)\n",
    "    fc2 = tf.nn.dropout(fc2, dropout)\n",
    "    \n",
    "    # TODO: Layer 5: Fully Connected. Input = 84. Output = 43.\n",
    "    fc3_W = tf.Variable(tf.truncated_normal(shape=(84, n_classes), mean = mu, stddev = sigma))\n",
    "    fc3_b = tf.Variable(tf.zeros(n_classes))\n",
    "    logits = tf.add(tf.matmul(fc2, fc3_W), fc3_b)\n",
    "    \n",
    "    return logits"
   ]
  },
  {
   "cell_type": "markdown",
   "metadata": {},
   "source": [
    "### Train, Validate and Test the Model"
   ]
  },
  {
   "cell_type": "markdown",
   "metadata": {},
   "source": [
    "A validation set can be used to assess how well the model is performing. A low accuracy on the training and validation\n",
    "sets imply underfitting. A high accuracy on the training set but low accuracy on the validation set implies overfitting."
   ]
  },
  {
   "cell_type": "code",
   "execution_count": null,
   "metadata": {},
   "outputs": [],
   "source": [
    "### Train your model here.\n",
    "### Calculate and report the accuracy on the training and validation set.\n",
    "### Once a final model architecture is selected, \n",
    "### the accuracy on the test set should be calculated and reported as well.\n",
    "### Feel free to use as many code cells as needed.\n",
    "\n",
    "# Features and Labels\n",
    "# Placeholder for batch of input images and batch of output labels\n",
    "x = tf.placeholder(tf.float32, (None, 32, 32, 1))\n",
    "y = tf.placeholder(tf.int32, (None))\n",
    "one_hot_y = tf.one_hot(y, n_classes)\n",
    "\n",
    "learning_rate = 0.0001\n",
    "logits  = LeNet(x)\n",
    "cross_entropy = tf.nn.softmax_cross_entropy_with_logits(labels=one_hot_y, logits=logits)\n",
    "loss_operation = tf.reduce_mean(cross_entropy)\n",
    "optimizer = tf.train.AdamOptimizer(learning_rate = learning_rate)\n",
    "training_operation = optimizer.minimize(loss_operation)"
   ]
  },
  {
   "cell_type": "code",
   "execution_count": null,
   "metadata": {},
   "outputs": [],
   "source": [
    "# Model Evaluation\n",
    "correct_prediction = tf.equal(tf.argmax(logits, 1), tf.argmax(one_hot_y, 1))\n",
    "accuracy_operation = tf.reduce_mean(tf.cast(correct_prediction, tf.float32))\n",
    "saver = tf.train.Saver()\n",
    "\n",
    "def evaluate(X_data, y_data):\n",
    "    num_examples = len(X_data)\n",
    "    num_batches = np.ceil(num_examples/BATCH_SIZE)\n",
    "    total_accuracy = 0\n",
    "    total_loss = 0\n",
    "    sess = tf.get_default_session()\n",
    "    for offset in range(0, num_examples, BATCH_SIZE):\n",
    "        end = offset + min(BATCH_SIZE, num_examples-offset)\n",
    "        batch_x, batch_y = X_data[offset:end], y_data[offset:end]\n",
    "        accuracy = sess.run(accuracy_operation, feed_dict={x: batch_x, y: batch_y})\n",
    "        #total_accuracy += (accuracy * len(batch_x))\n",
    "        total_accuracy += accuracy\n",
    "        \n",
    "        loss = sess.run(loss_operation, feed_dict={x: batch_x, y: batch_y})\n",
    "        total_loss += loss\n",
    "        \n",
    "    return total_accuracy/num_batches, total_loss/num_batches"
   ]
  },
  {
   "cell_type": "code",
   "execution_count": null,
   "metadata": {
    "scrolled": true
   },
   "outputs": [],
   "source": [
    "# Train the Model\n",
    "acc = np.NINF\n",
    "train_loss_list = []\n",
    "valid_loss_list = []\n",
    "\n",
    "with tf.Session() as sess:\n",
    "    sess.run(tf.global_variables_initializer())\n",
    "    num_examples = len(X_train)\n",
    "    num_batches = np.ceil(num_examples/BATCH_SIZE)\n",
    "    \n",
    "    print(\"...Start training...\")\n",
    "    print()\n",
    "    for i in range(EPOCHS):\n",
    "        train_loss = 0\n",
    "        \n",
    "        X_train, y_train = shuffle(X_train, y_train)\n",
    "        for offset in range(0, num_examples, BATCH_SIZE):\n",
    "            end = offset + min(BATCH_SIZE, num_examples-offset)\n",
    "            batch_x, batch_y = X_train[offset:end], y_train[offset:end]\n",
    "            _, current_loss = sess.run([training_operation, loss_operation], feed_dict={x: batch_x, y: batch_y})\n",
    "            \n",
    "            # update total training loss\n",
    "            train_loss += current_loss\n",
    "        \n",
    "        # Calculate average losses\n",
    "        train_loss = train_loss/num_batches\n",
    "        \n",
    "        # Validation\n",
    "        validation_accuracy, validation_loss = evaluate(X_valid, y_valid)\n",
    "        print(\"EPOCH {} ...\".format(i+1))\n",
    "        print('Train Loss = {}\\tValidation Loss = {}'.format(train_loss, validation_loss))\n",
    "        print(\"Validation Accuracy = {:.3f}\".format(validation_accuracy))\n",
    "        train_loss_list.append(train_loss)\n",
    "        valid_loss_list.append(validation_loss)\n",
    "        \n",
    "        # Save model\n",
    "        if acc < validation_accuracy:\n",
    "            acc = validation_accuracy\n",
    "            saver.save(sess, './lenet')\n",
    "            print(\"==> Model saved\")\n",
    "        print('--------- End current Epoch ---------')"
   ]
  },
  {
   "cell_type": "code",
   "execution_count": null,
   "metadata": {},
   "outputs": [],
   "source": [
    "# Losses vs Epochs\n",
    "train_loss_arr = np.asarray(train_loss_list)\n",
    "valid_loss_arr = np.asarray(valid_loss_list)\n",
    "plt.plot(range(EPOCHS), train_loss_arr, 'b')\n",
    "plt.plot(range(EPOCHS), valid_loss_arr, 'r')\n",
    "plt.legend(['Train Loss', 'Valid Loss'])\n",
    "plt.xlabel('Number of Epochs')\n",
    "plt.ylabel('Losses')\n",
    "plt.title('Losses vs Epochs')\n",
    "plt.show()"
   ]
  },
  {
   "cell_type": "markdown",
   "metadata": {},
   "source": [
    "---\n",
    "\n",
    "## Step 3: Test a Model on New Images\n",
    "\n",
    "To give yourself more insight into how your model is working, download at least five pictures of German traffic signs from the web and use your model to predict the traffic sign type.\n",
    "\n",
    "You may find `signnames.csv` useful as it contains mappings from the class id (integer) to the actual sign name."
   ]
  },
  {
   "cell_type": "markdown",
   "metadata": {},
   "source": [
    "### Load and Output the Images"
   ]
  },
  {
   "cell_type": "code",
   "execution_count": null,
   "metadata": {},
   "outputs": [],
   "source": [
    "### Load the images and plot them here.\n",
    "### Feel free to use as many code cells as needed."
   ]
  },
  {
   "cell_type": "markdown",
   "metadata": {},
   "source": [
    "### Predict the Sign Type for Each Image"
   ]
  },
  {
   "cell_type": "code",
   "execution_count": null,
   "metadata": {},
   "outputs": [],
   "source": [
    "### Run the predictions here and use the model to output the prediction for each image.\n",
    "### Make sure to pre-process the images with the same pre-processing pipeline used earlier.\n",
    "### Feel free to use as many code cells as needed."
   ]
  },
  {
   "cell_type": "markdown",
   "metadata": {},
   "source": [
    "### Analyze Performance"
   ]
  },
  {
   "cell_type": "code",
   "execution_count": null,
   "metadata": {},
   "outputs": [],
   "source": [
    "### Calculate the accuracy for these 5 new images. \n",
    "### For example, if the model predicted 1 out of 5 signs correctly, it's 20% accurate on these new images."
   ]
  },
  {
   "cell_type": "markdown",
   "metadata": {},
   "source": [
    "### Output Top 5 Softmax Probabilities For Each Image Found on the Web"
   ]
  },
  {
   "cell_type": "markdown",
   "metadata": {},
   "source": [
    "For each of the new images, print out the model's softmax probabilities to show the **certainty** of the model's predictions (limit the output to the top 5 probabilities for each image). [`tf.nn.top_k`](https://www.tensorflow.org/versions/r0.12/api_docs/python/nn.html#top_k) could prove helpful here. \n",
    "\n",
    "The example below demonstrates how tf.nn.top_k can be used to find the top k predictions for each image.\n",
    "\n",
    "`tf.nn.top_k` will return the values and indices (class ids) of the top k predictions. So if k=3, for each sign, it'll return the 3 largest probabilities (out of a possible 43) and the correspoding class ids.\n",
    "\n",
    "Take this numpy array as an example. The values in the array represent predictions. The array contains softmax probabilities for five candidate images with six possible classes. `tf.nn.top_k` is used to choose the three classes with the highest probability:\n",
    "\n",
    "```\n",
    "# (5, 6) array\n",
    "a = np.array([[ 0.24879643,  0.07032244,  0.12641572,  0.34763842,  0.07893497,\n",
    "         0.12789202],\n",
    "       [ 0.28086119,  0.27569815,  0.08594638,  0.0178669 ,  0.18063401,\n",
    "         0.15899337],\n",
    "       [ 0.26076848,  0.23664738,  0.08020603,  0.07001922,  0.1134371 ,\n",
    "         0.23892179],\n",
    "       [ 0.11943333,  0.29198961,  0.02605103,  0.26234032,  0.1351348 ,\n",
    "         0.16505091],\n",
    "       [ 0.09561176,  0.34396535,  0.0643941 ,  0.16240774,  0.24206137,\n",
    "         0.09155967]])\n",
    "```\n",
    "\n",
    "Running it through `sess.run(tf.nn.top_k(tf.constant(a), k=3))` produces:\n",
    "\n",
    "```\n",
    "TopKV2(values=array([[ 0.34763842,  0.24879643,  0.12789202],\n",
    "       [ 0.28086119,  0.27569815,  0.18063401],\n",
    "       [ 0.26076848,  0.23892179,  0.23664738],\n",
    "       [ 0.29198961,  0.26234032,  0.16505091],\n",
    "       [ 0.34396535,  0.24206137,  0.16240774]]), indices=array([[3, 0, 5],\n",
    "       [0, 1, 4],\n",
    "       [0, 5, 1],\n",
    "       [1, 3, 5],\n",
    "       [1, 4, 3]], dtype=int32))\n",
    "```\n",
    "\n",
    "Looking just at the first row we get `[ 0.34763842,  0.24879643,  0.12789202]`, you can confirm these are the 3 largest probabilities in `a`. You'll also notice `[3, 0, 5]` are the corresponding indices."
   ]
  },
  {
   "cell_type": "code",
   "execution_count": null,
   "metadata": {},
   "outputs": [],
   "source": [
    "### Print out the top five softmax probabilities for the predictions on the German traffic sign images found on the web. \n",
    "### Feel free to use as many code cells as needed."
   ]
  },
  {
   "cell_type": "markdown",
   "metadata": {},
   "source": [
    "### Project Writeup\n",
    "\n",
    "Once you have completed the code implementation, document your results in a project writeup using this [template](https://github.com/udacity/CarND-Traffic-Sign-Classifier-Project/blob/master/writeup_template.md) as a guide. The writeup can be in a markdown or pdf file. "
   ]
  },
  {
   "cell_type": "markdown",
   "metadata": {},
   "source": [
    "> **Note**: Once you have completed all of the code implementations and successfully answered each question above, you may finalize your work by exporting the iPython Notebook as an HTML document. You can do this by using the menu above and navigating to  \\n\",\n",
    "    \"**File -> Download as -> HTML (.html)**. Include the finished document along with this notebook as your submission."
   ]
  },
  {
   "cell_type": "markdown",
   "metadata": {},
   "source": [
    "---\n",
    "\n",
    "## Step 4 (Optional): Visualize the Neural Network's State with Test Images\n",
    "\n",
    " This Section is not required to complete but acts as an additional excersise for understaning the output of a neural network's weights. While neural networks can be a great learning device they are often referred to as a black box. We can understand what the weights of a neural network look like better by plotting their feature maps. After successfully training your neural network you can see what it's feature maps look like by plotting the output of the network's weight layers in response to a test stimuli image. From these plotted feature maps, it's possible to see what characteristics of an image the network finds interesting. For a sign, maybe the inner network feature maps react with high activation to the sign's boundary outline or to the contrast in the sign's painted symbol.\n",
    "\n",
    " Provided for you below is the function code that allows you to get the visualization output of any tensorflow weight layer you want. The inputs to the function should be a stimuli image, one used during training or a new one you provided, and then the tensorflow variable name that represents the layer's state during the training process, for instance if you wanted to see what the [LeNet lab's](https://classroom.udacity.com/nanodegrees/nd013/parts/fbf77062-5703-404e-b60c-95b78b2f3f9e/modules/6df7ae49-c61c-4bb2-a23e-6527e69209ec/lessons/601ae704-1035-4287-8b11-e2c2716217ad/concepts/d4aca031-508f-4e0b-b493-e7b706120f81) feature maps looked like for it's second convolutional layer you could enter conv2 as the tf_activation variable.\n",
    "\n",
    "For an example of what feature map outputs look like, check out NVIDIA's results in their paper [End-to-End Deep Learning for Self-Driving Cars](https://devblogs.nvidia.com/parallelforall/deep-learning-self-driving-cars/) in the section Visualization of internal CNN State. NVIDIA was able to show that their network's inner weights had high activations to road boundary lines by comparing feature maps from an image with a clear path to one without. Try experimenting with a similar test to show that your trained network's weights are looking for interesting features, whether it's looking at differences in feature maps from images with or without a sign, or even what feature maps look like in a trained network vs a completely untrained one on the same sign image.\n",
    "\n",
    "<figure>\n",
    " <img src=\"visualize_cnn.png\" width=\"380\" alt=\"Combined Image\" />\n",
    " <figcaption>\n",
    " <p></p> \n",
    " <p style=\"text-align: center;\"> Your output should look something like this (above)</p> \n",
    " </figcaption>\n",
    "</figure>\n",
    " <p></p> \n"
   ]
  },
  {
   "cell_type": "code",
   "execution_count": null,
   "metadata": {},
   "outputs": [],
   "source": [
    "### Visualize your network's feature maps here.\n",
    "### Feel free to use as many code cells as needed.\n",
    "\n",
    "# image_input: the test image being fed into the network to produce the feature maps\n",
    "# tf_activation: should be a tf variable name used during your training procedure that represents the calculated state of a specific weight layer\n",
    "# activation_min/max: can be used to view the activation contrast in more detail, by default matplot sets min and max to the actual min and max values of the output\n",
    "# plt_num: used to plot out multiple different weight feature map sets on the same block, just extend the plt number for each new feature map entry\n",
    "\n",
    "def outputFeatureMap(image_input, tf_activation, activation_min=-1, activation_max=-1 ,plt_num=1):\n",
    "    # Here make sure to preprocess your image_input in a way your network expects\n",
    "    # with size, normalization, ect if needed\n",
    "    # image_input =\n",
    "    # Note: x should be the same name as your network's tensorflow data placeholder variable\n",
    "    # If you get an error tf_activation is not defined it may be having trouble accessing the variable from inside a function\n",
    "    activation = tf_activation.eval(session=sess,feed_dict={x : image_input})\n",
    "    featuremaps = activation.shape[3]\n",
    "    plt.figure(plt_num, figsize=(15,15))\n",
    "    for featuremap in range(featuremaps):\n",
    "        plt.subplot(6,8, featuremap+1) # sets the number of feature maps to show on each row and column\n",
    "        plt.title('FeatureMap ' + str(featuremap)) # displays the feature map number\n",
    "        if activation_min != -1 & activation_max != -1:\n",
    "            plt.imshow(activation[0,:,:, featuremap], interpolation=\"nearest\", vmin =activation_min, vmax=activation_max, cmap=\"gray\")\n",
    "        elif activation_max != -1:\n",
    "            plt.imshow(activation[0,:,:, featuremap], interpolation=\"nearest\", vmax=activation_max, cmap=\"gray\")\n",
    "        elif activation_min !=-1:\n",
    "            plt.imshow(activation[0,:,:, featuremap], interpolation=\"nearest\", vmin=activation_min, cmap=\"gray\")\n",
    "        else:\n",
    "            plt.imshow(activation[0,:,:, featuremap], interpolation=\"nearest\", cmap=\"gray\")"
   ]
  }
 ],
 "metadata": {
  "anaconda-cloud": {},
  "kernelspec": {
   "display_name": "Python 3",
   "language": "python",
   "name": "python3"
  },
  "language_info": {
   "codemirror_mode": {
    "name": "ipython",
    "version": 3
   },
   "file_extension": ".py",
   "mimetype": "text/x-python",
   "name": "python",
   "nbconvert_exporter": "python",
   "pygments_lexer": "ipython3",
   "version": "3.6.3"
  }
 },
 "nbformat": 4,
 "nbformat_minor": 1
}
